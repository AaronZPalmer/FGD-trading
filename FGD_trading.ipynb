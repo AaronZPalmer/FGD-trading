{
  "nbformat": 4,
  "nbformat_minor": 0,
  "metadata": {
    "colab": {
      "provenance": [],
      "authorship_tag": "ABX9TyNXaCyWS42tnoOk+gArgbl8",
      "include_colab_link": true
    },
    "kernelspec": {
      "name": "python3",
      "display_name": "Python 3"
    },
    "language_info": {
      "name": "python"
    },
    "accelerator": "GPU",
    "gpuClass": "standard"
  },
  "cells": [
    {
      "cell_type": "markdown",
      "metadata": {
        "id": "view-in-github",
        "colab_type": "text"
      },
      "source": [
        "<a href=\"https://colab.research.google.com/github/AaronZPalmer/FGD-trading/blob/main/FGD_trading.ipynb\" target=\"_parent\"><img src=\"https://colab.research.google.com/assets/colab-badge.svg\" alt=\"Open In Colab\"/></a>"
      ]
    },
    {
      "cell_type": "code",
      "execution_count": 18,
      "metadata": {
        "id": "ym1eUdlWWhOc"
      },
      "outputs": [],
      "source": [
        "import torch\n",
        "import torch.nn as nn\n",
        "from tqdm import tqdm"
      ]
    },
    {
      "cell_type": "code",
      "source": [
        "device = torch.device(\"cuda\") if torch.cuda.is_available() else \"cpu\"\n",
        "dtype = torch.float\n",
        "\n",
        "print(device)"
      ],
      "metadata": {
        "colab": {
          "base_uri": "https://localhost:8080/"
        },
        "id": "46bBelp-Z0DB",
        "outputId": "22a2d87a-b85b-4b01-fd3e-47c3a85dd92e"
      },
      "execution_count": 3,
      "outputs": [
        {
          "output_type": "stream",
          "name": "stdout",
          "text": [
            "cuda\n"
          ]
        }
      ]
    },
    {
      "cell_type": "code",
      "source": [
        "class FFNet(nn.Module):\n",
        "    def __init__(self):\n",
        "        super().__init__()\n",
        "        self.fc1 = nn.Linear(5, 20) # initializes W 5x5 and b 5 dim vector\n",
        "        self.fc2 = nn.Linear(20, 20)\n",
        "        self.fc3 = nn.Linear(20, 20)\n",
        "        self.fc4 = nn.Linear(20, 1, bias=False)\n",
        "\n",
        "    def forward(self, x):\n",
        "        x1 = torch.tanh(self.fc1(x))\n",
        "        x2 = torch.tanh(self.fc2(x1))\n",
        "        x3 = torch.tanh(self.fc3(x2))\n",
        "        return self.fc4(x3)\n"
      ],
      "metadata": {
        "id": "_cN0Ji6DjxAw"
      },
      "execution_count": 19,
      "outputs": []
    },
    {
      "cell_type": "code",
      "source": [
        "num_epochs = 1000\n",
        "\n",
        "control_model = FFNet().to(device, dtype)\n",
        "trading_model = TradingModel(control_model)\n",
        "\n",
        "# i = 4\n",
        "\n",
        "# T_idx = 10*(2**i)\n",
        "\n",
        "# dt = T / T_idx\n",
        "\n",
        "# for new_N, N in enumerate(range(45,N_total*5+1,5)): # number of points in the cloud (to be used for mean field)\n",
        "\n",
        "#   control_model = FFNet().to(device, dtype)\n",
        "#   model = Model(dt, T_idx, N, initial, batch_size, control_model)\n",
        "#   cost_optimizer = torch.optim.Adam(control_model.parameters()) #AdamW?\n",
        "\n",
        "#   cost_l = [0]\n",
        "\n",
        "#   for epoch in tqdm(range(1, num_epochs)):\n",
        "\n",
        "#     cost_optimizer.zero_grad()\n",
        "#     cost_loss = model.cost()\n",
        "#     cost_loss.backward()\n",
        "#     cost_optimizer.step()\n",
        "#     cost_l.append(cost_l[epoch-1] + cost_loss.detach().item())\n",
        "\n",
        "#   with open(path + f\"cost_l_({N}, {T_idx}).pickle\", 'wb') as f:\n",
        "#     pickle.dump(cost_l, f, protocol=pickle.HIGHEST_PROTOCOL)\n",
        "\n",
        "#   name = path + f\"control_model_({N}, {T_idx}).pth\"\n",
        "#   torch.save(control_model.state_dict(), name)"
      ],
      "metadata": {
        "id": "RsS3P5vUj9oL"
      },
      "execution_count": null,
      "outputs": []
    }
  ]
}